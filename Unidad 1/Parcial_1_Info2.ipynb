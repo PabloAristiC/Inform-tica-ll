{
 "cells": [
  {
   "cell_type": "markdown",
   "metadata": {},
   "source": [
    "\n",
    "<p align=\"center\"><img alt=\"udeA logo\" height=\"150px\" src=\"https://github.com/freddyduitama/images/blob/master/logo.png?raw=true\"></p><h1><font color='0B5345'> <center>\n",
    "\n",
    "Informática II\n",
    "\n",
    " </center></font></h1>\n",
    "<h2><font color='0B5345'> <center>\n",
    "Parcial I: Programación orientada a objetos</center></font></h2>\n",
    "<font  face=\"Courier New\" size=\"3\">\n",
    "\n",
    "<p3><center><b><font color='0B5345' face=\"Lucida Calligraphy,Comic Sans MS,Lucida Console\" size=\"5\">Universidad de Antioquia - Bioingeniería</font></b> </center></p3>\n",
    "\n"
   ]
  },
  {
   "cell_type": "markdown",
   "metadata": {},
   "source": [
    "\n",
    "Nombre estudiante 1: Pablo Andrés Aristizábal Castaño\n",
    "\n",
    "Cédula estudiante 1: 1040872516\n",
    "\n",
    "Nombre estudiante 2: Nicole Dayanne Mejia Galvis\n",
    "\n",
    "Cédula estudiante 2: 1002691558"
   ]
  },
  {
   "cell_type": "markdown",
   "metadata": {},
   "source": [
    "Antes de iniciar leer cuidadosamente cada enunciado antes de responder y asegurarse de comprender completamente lo que se está solicitando. Además, preste atención a las instrucciones y seleccione la opción que consideres correcta en las preguntas de selección múltiple.\n",
    "\n",
    "¡Buena suerte!"
   ]
  },
  {
   "cell_type": "markdown",
   "metadata": {},
   "source": [
    "1. Describe qué es la encapsulación en programación orientada a objetos y por qué es importante en el desarrollo de software. (10%)"
   ]
  },
  {
   "cell_type": "markdown",
   "metadata": {},
   "source": [
    "La encapsulación es la seguridad que le damos al código para que otras personas no puedan acceder a algunos datos de los objetos, con el objetivo de proteger la información de los usuarios o personas que utilicen el código, existe encapsulación pública(+), protegida(#) o privada(-)"
   ]
  },
  {
   "cell_type": "markdown",
   "metadata": {},
   "source": [
    "2. ¿Qué palabra clave se utiliza en Python para definir una clase? (5%)\n",
    "\n",
    "    a) class\n",
    "\n",
    "    b) def\n",
    "\n",
    "    c) void\n",
    "    \n",
    "    d) function"
   ]
  },
  {
   "cell_type": "markdown",
   "metadata": {},
   "source": [
    "    a"
   ]
  },
  {
   "cell_type": "markdown",
   "metadata": {},
   "source": [
    "3. Define qué es la herencia en POO y proporciona un ejemplo en Python que demuestre su uso. (Implementar código) (20%). \n",
    "\n",
    "    **Nota:** El ejemplo propuesto debe tener atributos de instancia y al menos un método funcional. (**No se pueden usar ejemplos de clase**)"
   ]
  },
  {
   "cell_type": "code",
   "execution_count": 3,
   "metadata": {},
   "outputs": [
    {
     "name": "stdout",
     "output_type": "stream",
     "text": [
      "pepe\n"
     ]
    }
   ],
   "source": [
    "# Inserta tu código en esta celda\n",
    "'''La herencia se define como los atributos generales que le da una clase madre \n",
    "a una clase hija para poder clasificar distintas clases pero con unos atributos \n",
    "en común, siendo las clases hijas más específicas que la clase madre y así\n",
    " facilitando a la hora de programar'''\n",
    "class Persona():\n",
    "    def __init__(self,nombre,cedula,genero):\n",
    "        self.nombre = nombre\n",
    "        self.cedula = cedula\n",
    "        self.genero = genero\n",
    "    def asignarNombre(self):\n",
    "        self.nombre = input('Ingrese el nombre de la persona: ')\n",
    "class Profesor(Persona):\n",
    "    def __init__(self,nombre,cedula,genero,area):\n",
    "        super (). __init__(nombre,cedula,genero)\n",
    "        self.area=area\n",
    "profesor=Profesor('Pepito',55555555,'Masuclino','matemáticas')\n",
    "profesor.asignarNombre()\n",
    "print(profesor.nombre)"
   ]
  },
  {
   "cell_type": "markdown",
   "metadata": {},
   "source": [
    "4. ¿Cuál es el propósito principal del método constructor  _ _init__() en Python? (5%)\n",
    "\n",
    "    a) Definir los atributos de clase.\n",
    "    \n",
    "    b) Inicializar los atributos de instancia.\n",
    "    \n",
    "    c) Definir métodos de clase.\n",
    "    \n",
    "    d) Crear instancias de la clase."
   ]
  },
  {
   "cell_type": "markdown",
   "metadata": {},
   "source": [
    "b"
   ]
  },
  {
   "cell_type": "markdown",
   "metadata": {},
   "source": [
    "5. Del siguiente código indique donde se evidencian relaciones entre clases (dependencia, asociación o herencia) (10%) \n",
    "\n",
    "    **Nota:** Puede comentar en el código donde están las relaciones."
   ]
  },
  {
   "cell_type": "code",
   "execution_count": null,
   "metadata": {},
   "outputs": [],
   "source": [
    "class lectorArchivos:\n",
    "    def crearArchivo(self, nombre_archivo, contenido):\n",
    "        try:\n",
    "            with open(nombre_archivo, 'w') as file:\n",
    "                file.write(contenido)\n",
    "            print(f\"Archivo '{nombre_archivo}' creado exitosamente.\")\n",
    "        except Exception as e:\n",
    "            print(f\"No se pudo crear el archivo '{nombre_archivo}': {e}\")\n",
    "\n",
    "    def leerArchivo(self, nombre_archivo):\n",
    "        try:\n",
    "            with open(nombre_archivo, 'r') as file:\n",
    "                contenido = file.read()\n",
    "                return contenido\n",
    "        except FileNotFoundError:\n",
    "            print(f\"El archivo '{nombre_archivo}' no existe.\")\n",
    "            return None\n",
    "\n",
    "class procesarDatos:\n",
    "    def procesarTexto(self, texto):\n",
    "        if texto:\n",
    "            return texto.upper()\n",
    "        else:\n",
    "            return \"No se pudo procesar el texto.\"\n",
    "\n",
    "class analizarDatos(procesarDatos): #Herencia de procesarDatos\n",
    "    def analizar(self, nombre_archivo):\n",
    "        lector = lectorArchivos()  #Asosiación entre analizarDatos y lectorArchivos\n",
    "        texto = lector.leerArchivo(nombre_archivo)\n",
    "        if texto:\n",
    "            resultado = self.procesarTexto(texto)\n",
    "            print(\"Análisis completado:\")\n",
    "            print(resultado)\n",
    "        else:\n",
    "            print(\"No hay datos para analizar.\")\n",
    "\n",
    "# Ejemplo de uso\n",
    "nombre_archivo = \"datos.txt\"\n",
    "contenido = \"Este es un ejemplo de texto para el archivo.\"\n",
    "\n",
    "# Crear el archivo\n",
    "lector = lectorArchivos()\n",
    "lector.crearArchivo(nombre_archivo, contenido)\n",
    "\n",
    "# Analizar el archivo\n",
    "analizador = analizarDatos()\n",
    "analizador.analizar(nombre_archivo)"
   ]
  },
  {
   "cell_type": "markdown",
   "metadata": {},
   "source": [
    "6. A partir del siguiente programa basado en programación orientada a objetos responda las siguientes preguntas:"
   ]
  },
  {
   "cell_type": "code",
   "execution_count": 9,
   "metadata": {},
   "outputs": [
    {
     "name": "stdout",
     "output_type": "stream",
     "text": [
      "El saldo actual de la cuenta de Juan es: 1000\n",
      "Se han depositado 500 en la cuenta de Juan. Nuevo saldo: 1500\n",
      "Se han retirado 200 de la cuenta de Juan. Nuevo saldo: 1300\n",
      "Juan\n",
      "Jose\n"
     ]
    }
   ],
   "source": [
    "class cuentaBancaria:\n",
    "    def __init__(self, titular, saldo_inicial=0):\n",
    "        self._titular = titular  \n",
    "        self.__saldo = saldo_inicial  \n",
    "\n",
    "    def depositar(self, cantidad):\n",
    "        if cantidad > 0:\n",
    "            self.__saldo += cantidad\n",
    "            print(f\"Se han depositado {cantidad} en la cuenta de {self._titular}. Nuevo saldo: {self.__saldo}\")\n",
    "        else:\n",
    "            print(\"La cantidad a depositar debe ser mayor que 0.\")\n",
    "\n",
    "    def retirar(self, cantidad):\n",
    "        if 0 < cantidad <= self.__saldo:\n",
    "            self.__saldo -= cantidad\n",
    "            print(f\"Se han retirado {cantidad} de la cuenta de {self._titular}. Nuevo saldo: {self.__saldo}\")\n",
    "        else:\n",
    "            print(\"No se puede retirar la cantidad especificada. Verifique su saldo.\")\n",
    "\n",
    "    def consultarSaldo(self):\n",
    "        print(f\"El saldo actual de la cuenta de {self._titular} es: {self.__saldo}\")\n",
    "\n",
    "\n",
    "# Ejemplo de uso\n",
    "cuenta = cuentaBancaria(\"Juan\", 1000)\n",
    "cuenta.consultarSaldo()\n",
    "cuenta.depositar(500)\n",
    "cuenta.retirar(200)\n",
    "\n"
   ]
  },
  {
   "cell_type": "markdown",
   "metadata": {},
   "source": [
    "6.1 ¿Qué significa que el atributo _titular esté marcado como protegido en la clase CuentaBancaria? (5%)\n",
    "\n",
    "a) Solo los métodos dentro de la clase pueden acceder y modificar el atributo _titular.\n",
    "    \n",
    "b) El atributo _titular se puede acceder y modificar desde fuera de la clase, pero se considera una convención que indica que no debe ser modificado directamente por usuarios de la clase.\n",
    "    \n",
    "c) El atributo _titular no se puede acceder directamente desde fuera de la clase.\n",
    "    \n",
    "d) El atributo _titular solo se puede acceder desde fuera de la clase."
   ]
  },
  {
   "cell_type": "markdown",
   "metadata": {},
   "source": [
    "b"
   ]
  },
  {
   "cell_type": "markdown",
   "metadata": {},
   "source": [
    "6.2 ¿Qué significa que el atributo __saldo esté marcado como privado en la clase CuentaBancaria? (5%)\n",
    "\n",
    "a) El atributo __saldo se puede acceder directamente desde fuera de la clase.\n",
    "\n",
    "b) Solo los métodos dentro de la clase pueden acceder y modificar el atributo __saldo.\n",
    "\n",
    "c) El atributo __saldo se puede acceder y modificar desde cualquier parte del código.\n",
    "\n",
    "d) El atributo __saldo es visible y modificable desde fuera de la clase."
   ]
  },
  {
   "cell_type": "markdown",
   "metadata": {},
   "source": [
    "b"
   ]
  },
  {
   "cell_type": "markdown",
   "metadata": {},
   "source": [
    "6.3 ¿Qué importancia tiene el encapsulamiento en el contexto de la clase CuentaBancaria? (5%)\n",
    "\n",
    "a) Protege los datos sensibles dentro de la clase y permite acceder a ellos desde fuera de la clase.\n",
    "\n",
    "b) Protege los datos sensibles dentro de la clase y restringe el acceso desde fuera de la clase.\n",
    "\n",
    "c) Permite que cualquier método acceda y modifique los datos de la clase.\n",
    "\n",
    "d) No tiene ningún impacto en el acceso a los datos de la clase."
   ]
  },
  {
   "cell_type": "markdown",
   "metadata": {},
   "source": [
    "b"
   ]
  },
  {
   "cell_type": "markdown",
   "metadata": {},
   "source": [
    "6.4 Que tipos de métodos y atributos contiene la clase cuentaBancaria? (5%)"
   ]
  },
  {
   "cell_type": "markdown",
   "metadata": {},
   "source": [
    "1. cuentaBancaria solo tiene métodos de instancia debido a que estos solo actúan sobre un objeto en específico y no sobre todos a la vez.\n",
    "2. cuentaBancaria solo tiene atributos de instancia, ya que el saldoInicial solo es cero si este no se proporciona cuando se crea el objeto, por lo tanto es un atributo de instancia ya que lo pueden agregar al crear el objeto y lo pueden modificar."
   ]
  },
  {
   "cell_type": "markdown",
   "metadata": {},
   "source": [
    "7. Cree una clase llamada Calculadora que simule una calculadora básica, debe hacer una prueba de escritorio para cada método y realizar el diagrama de clase. (30%) \n",
    "\n",
    "La clase Calculadora debe tener los siguientes métodos:\n",
    "\n",
    "**Suma:** Este método debe tomar dos números como argumentos y devolver la suma de esos números. \n",
    "\n",
    "**Resta:** Este método debe tomar dos números como argumentos y devolver la resta del segundo número al primero. \n",
    "\n",
    "**Multiplicación:** Este método debe tomar dos números como argumentos y devolver el producto de esos números. \n",
    "\n",
    "**División:** Este método debe tomar dos números como argumentos y devolver el resultado de dividir el primero por el segundo. Si el segundo número es 0, debes imprimir un mensaje indicando que la división por cero no está permitida. \n",
    "\n",
    "**Nota:** Antes de realizar cualquier operación, valide que ambos argumentos sean números. Si alguno de los argumentos no es un número, debe imprimir un mensaje indicando que solo se permiten números y no realizar la operación.\n",
    "\n",
    "Además, la clase Calculadora no debe tener ningún atributo de instancia."
   ]
  },
  {
   "cell_type": "markdown",
   "metadata": {},
   "source": [
    "**Éxitos y recuerden que la entrega del parcial se realiza subiendo este notebook al repositorio de github de alguno de los integrantes del grupo.**"
   ]
  },
  {
   "cell_type": "code",
   "execution_count": 10,
   "metadata": {},
   "outputs": [
    {
     "name": "stdout",
     "output_type": "stream",
     "text": [
      "Bienvenido a calculadora\n",
      "--------------------------------------------------\n",
      "--------------------------------------------------\n",
      "--------------------------------------------------\n",
      "Error, debe ingresar un número entero\n",
      "--------------------------------------------------\n",
      "--------------------------------------------------\n",
      "--------------------------------------------------\n",
      "--------------------------------------------------\n",
      "2\n",
      "--------------------------------------------------\n",
      "--------------------------------------------------\n",
      "Gracias por utilizar la calculadora\n",
      "--------------------------------------------------\n"
     ]
    }
   ],
   "source": [
    "def validar(valor,tipo):\n",
    "    '''\n",
    "    Esta función tiene dos entradas, la primera es el input el cual se va a validar y la segunda es el tipo de input esperado, ya sea str o int\n",
    "    '''\n",
    "    while True:\n",
    "        try:\n",
    "            if tipo==int:\n",
    "                if valor.isdigit():\n",
    "                    return valor\n",
    "                else:\n",
    "                    print('-'*50)\n",
    "                    print('Error, debe ingresar un número entero')\n",
    "                    print('-'*50)\n",
    "                    valor=input('Ingresar el valor nuevamente\\n')\n",
    "                    print('-'*50)\n",
    "            elif tipo==str:\n",
    "                if valor.isalpha():\n",
    "                    return valor\n",
    "                else:\n",
    "                    print('-'*50)\n",
    "                    print('Error, debe ingresar solo texto')\n",
    "                    print('-'*50)\n",
    "                    valor=input('Ingresar el valor nuevamente\\n')\n",
    "                    print('-'*50)\n",
    "            else:\n",
    "                return valor\n",
    "        except:\n",
    "            print('-'*50)\n",
    "            print('Error, no ingresó el valor solicitado tipo'+str(tipo))\n",
    "            Valor=input('Ingresar el valor nuevamente\\n')\n",
    "            print('-'*50)\n",
    "class Calculadora():\n",
    "    def __init__(self,numero1,numero2):\n",
    "        self.numero1=numero1\n",
    "        self.numero2=numero2\n",
    "    def suma(self):\n",
    "        return (self.numero1+self.numero2)\n",
    "    def resta(self):\n",
    "        return (self.numero1-self.numero2)\n",
    "    def multiplicacion(self):\n",
    "        return (self.numero1*self.numero2)\n",
    "    def division(self):\n",
    "        return (self.numero1/self.numero2)\n",
    "print('Bienvenido a calculadora')\n",
    "print('-'*50)\n",
    "while True:\n",
    "    menu=input('Ingrese la opción a la que desea ingresar.\\n1. Suma\\n2. Resta\\n3. Multiplicación\\n4. División.\\n5. Salir\\n')\n",
    "    validar(menu,int)\n",
    "    print('-'*50)\n",
    "    if menu=='1':\n",
    "        numero_1=input('Ingrese el número inicial\\n')\n",
    "        Numero_1=validar(numero_1,int)\n",
    "        print('-'*50)\n",
    "        numero_2=input('Ingrese el segundo número que desea adicionar\\n')\n",
    "        Numero_2=validar(numero_2,int)\n",
    "        print('-'*50)\n",
    "        calcularSuma=Calculadora(int(Numero_1),int(Numero_2))\n",
    "        print(calcularSuma.suma())\n",
    "        print('-'*50)\n",
    "    elif menu=='2':\n",
    "        numero_1=input('Ingrese el número inicial\\n')\n",
    "        Numero_1=validar(numero_1,int)\n",
    "        print('-'*50)\n",
    "        numero_2=input('Ingrese el segundo número que desea restar\\n')\n",
    "        Numero_2=validar(numero_2,int)\n",
    "        print('-'*50)\n",
    "        calcularResta=Calculadora(int(Numero_1),int(Numero_2))\n",
    "        print(calcularResta.resta())\n",
    "        print('-'*50)\n",
    "    elif menu=='3':\n",
    "        numero_1=input('Ingrese el número inicial\\n')\n",
    "        Numero_1=validar(numero_1,int)\n",
    "        print('-'*50)\n",
    "        numero_2=input('Ingrese el segundo número que desea multiplicar\\n')\n",
    "        Numero_2=validar(numero_2,int)\n",
    "        print('-'*50)\n",
    "        calcularMultiplicacion=Calculadora(int(Numero_1),int(Numero_2))\n",
    "        print(calcularMultiplicacion.multiplicacion())\n",
    "        print('-'*50)\n",
    "    elif menu=='4':\n",
    "        numero_1=input('Ingrese el número inicial\\n')\n",
    "        Numero_1=validar(numero_1,int)\n",
    "        print('-'*50)\n",
    "        numero_2=input('Ingrese el segundo número que desea dividir\\n')\n",
    "        Numero_2=validar(numero_2,int)\n",
    "        print('-'*50)\n",
    "        calcularDivision=Calculadora(int(Numero_1),int(Numero_2))\n",
    "        print(calcularDivision.division())\n",
    "        print('-'*50)\n",
    "    elif menu=='5':\n",
    "        print('Gracias por utilizar la calculadora')\n",
    "        print('-'*50)\n",
    "        break\n",
    "    else:\n",
    "        print('Opción no válida, por favor ingrese una opción válida para el menú')\n",
    "        print('-'*50)"
   ]
  }
 ],
 "metadata": {
  "kernelspec": {
   "display_name": "Python 3",
   "language": "python",
   "name": "python3"
  },
  "language_info": {
   "codemirror_mode": {
    "name": "ipython",
    "version": 3
   },
   "file_extension": ".py",
   "mimetype": "text/x-python",
   "name": "python",
   "nbconvert_exporter": "python",
   "pygments_lexer": "ipython3",
   "version": "3.11.3"
  },
  "orig_nbformat": 4
 },
 "nbformat": 4,
 "nbformat_minor": 2
}
